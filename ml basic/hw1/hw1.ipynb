{
 "cells": [
  {
   "cell_type": "code",
   "execution_count": null,
   "metadata": {},
   "outputs": [
    {
     "name": "stdout",
     "output_type": "stream",
     "text": [
      "Mirrored number: 14325\n"
     ]
    }
   ],
   "source": [
    "# TASK #1\n",
    "# Input: A five-digit number\n",
    "number = input(\"Enter a five-digit number: \")\n",
    "\n",
    "# Ensure the input is valid\n",
    "if len(number) == 5 and number.isdigit():\n",
    "    # Extract the first, middle three, and last digits\n",
    "    first_digit = number[0]\n",
    "    middle_three = number[1:4]\n",
    "    last_digit = number[4]\n",
    "    \n",
    "    # Reverse the middle three digits\n",
    "    mirrored_middle = middle_three[::-1]\n",
    "    \n",
    "    # Combine the parts\n",
    "    mirrored_number = first_digit + mirrored_middle + last_digit\n",
    "    \n",
    "    print(\"Mirrored number:\", mirrored_number)\n",
    "else:\n",
    "    print(\"Invalid input! Please enter a five-digit number.\")"
   ]
  },
  {
   "cell_type": "code",
   "execution_count": null,
   "metadata": {},
   "outputs": [
    {
     "name": "stdout",
     "output_type": "stream",
     "text": [
      "Number of vacation days before vacation: 4\n"
     ]
    }
   ],
   "source": [
    "# TASK #2\n",
    "# Input: Number of days until the next vacation\n",
    "days_until_vacation = int(input(\"Enter the number of days until the next vacation: \"))\n",
    "\n",
    "# Initialize the count of working days\n",
    "working_days = 0\n",
    "\n",
    "# Loop through each day and count only working days (Monday to Friday)\n",
    "for day in range(1, days_until_vacation + 1):\n",
    "    # Calculate the day of the week (1 = Monday, ..., 7 = Sunday)\n",
    "    day_of_week = (day % 7)\n",
    "    \n",
    "    # If the day is not Saturday (6) or Sunday (0), count it as a working day\n",
    "    if day_of_week not in [6, 0]:\n",
    "        working_days += 1\n",
    "\n",
    "print(\"Number of vacation days before vacation:\", days_until_vacation - working_days)"
   ]
  },
  {
   "cell_type": "code",
   "execution_count": null,
   "metadata": {},
   "outputs": [
    {
     "name": "stdout",
     "output_type": "stream",
     "text": [
      "True\n"
     ]
    }
   ],
   "source": [
    "# TASK #3\n",
    "# Input: Length and width of the chocolate bar, and the size of the piece to break off\n",
    "length = int(input(\"Enter the length of the chocolate bar: \"))\n",
    "width = int(input(\"Enter the width of the chocolate bar: \"))\n",
    "piece_size = int(input(\"Enter the size of the piece to break off: \"))\n",
    "\n",
    "# Total size of the chocolate bar\n",
    "total_size = length * width\n",
    "\n",
    "# Check if the piece can be broken off\n",
    "# A piece can be broken off if it is less than the total size and is divisible by either the length or the width\n",
    "if piece_size < total_size and (piece_size % length == 0 or piece_size % width == 0):\n",
    "    print(\"True\")\n",
    "else:\n",
    "    print(\"False\")"
   ]
  },
  {
   "cell_type": "code",
   "execution_count": null,
   "metadata": {},
   "outputs": [
    {
     "name": "stdout",
     "output_type": "stream",
     "text": [
      "Roman numeral: CCXXXIV\n"
     ]
    }
   ],
   "source": [
    "# TASK #4\n",
    "# Input: A positive integer\n",
    "num = int(input(\"Enter a positive integer: \"))\n",
    "\n",
    "# Define a dictionary of Roman numeral mappings\n",
    "roman_numerals = [\n",
    "    (1000, \"M\"), (900, \"CM\"), (500, \"D\"), (400, \"CD\"),\n",
    "    (100, \"C\"), (90, \"XC\"), (50, \"L\"), (40, \"XL\"),\n",
    "    (10, \"X\"), (9, \"IX\"), (5, \"V\"), (4, \"IV\"), (1, \"I\")\n",
    "]\n",
    "\n",
    "# Initialize the result string\n",
    "roman_string = \"\"\n",
    "\n",
    "# Convert the number to a Roman numeral\n",
    "for value, symbol in roman_numerals:\n",
    "    while num >= value:\n",
    "        roman_string += symbol\n",
    "        num -= value\n",
    "\n",
    "print(\"Roman numeral:\", roman_string)"
   ]
  },
  {
   "cell_type": "code",
   "execution_count": 18,
   "metadata": {},
   "outputs": [
    {
     "name": "stdout",
     "output_type": "stream",
     "text": [
      "Is positive real: False\n"
     ]
    }
   ],
   "source": [
    "# TASK #5.1\n",
    "# Input: A string to check if it is a positive real number\n",
    "data = input(\"Enter a value: \")\n",
    "\n",
    "# Initialize a flag for validation\n",
    "is_positive_real = True\n",
    "\n",
    "# Check if the input is a positive real number\n",
    "if data.count('.') > 1 or data.startswith('.') and len(data) == 1:\n",
    "    is_positive_real = False\n",
    "else:\n",
    "    for char in data:\n",
    "        if not (char.isdigit() or char == '.'):\n",
    "            is_positive_real = False\n",
    "            break\n",
    "\n",
    "print(\"Is positive real:\", is_positive_real)"
   ]
  },
  {
   "cell_type": "code",
   "execution_count": 23,
   "metadata": {},
   "outputs": [
    {
     "name": "stdout",
     "output_type": "stream",
     "text": [
      "Is negative real: True\n"
     ]
    }
   ],
   "source": [
    "# TASK 5.2\n",
    "# Input: A string to check if it is a negative real number\n",
    "data = input(\"Enter a value: \")\n",
    "\n",
    "# Initialize a flag for validation\n",
    "is_negative_real = True\n",
    "\n",
    "# Check if the input is a negative real number\n",
    "if not data.startswith('-') or data.count('.') > 1 or data.startswith('-') and len(data) == 1:\n",
    "    is_negative_real = False\n",
    "else:\n",
    "    for i, char in enumerate(data):\n",
    "        if i == 0 and char == '-':  # Skip the negative sign at the start\n",
    "            continue\n",
    "        if not (char.isdigit() or char == '.'):\n",
    "            is_negative_real = False\n",
    "            break\n",
    "\n",
    "print(\"Is negative real:\", is_negative_real)"
   ]
  }
 ],
 "metadata": {
  "kernelspec": {
   "display_name": "venv",
   "language": "python",
   "name": "python3"
  },
  "language_info": {
   "codemirror_mode": {
    "name": "ipython",
    "version": 3
   },
   "file_extension": ".py",
   "mimetype": "text/x-python",
   "name": "python",
   "nbconvert_exporter": "python",
   "pygments_lexer": "ipython3",
   "version": "3.11.0"
  }
 },
 "nbformat": 4,
 "nbformat_minor": 2
}
