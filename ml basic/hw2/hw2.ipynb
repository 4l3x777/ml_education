{
 "cells": [
  {
   "cell_type": "code",
   "execution_count": null,
   "metadata": {},
   "outputs": [
    {
     "name": "stdout",
     "output_type": "stream",
     "text": [
      "The single-digit result is: 5\n"
     ]
    }
   ],
   "source": [
    "# TASK # 1\n",
    "def sum_to_single_digit(n):\n",
    "    while n >= 10:  # Continue until the number is a single digit\n",
    "        n = sum(int(digit) for digit in str(n))  # Sum the digits of the number\n",
    "    return n\n",
    "\n",
    "# Example usage\n",
    "number = int(input(\"Enter an integer: \"))\n",
    "result = sum_to_single_digit(number)\n",
    "print(f\"The single-digit result is: {result}\")"
   ]
  },
  {
   "cell_type": "code",
   "execution_count": 8,
   "metadata": {},
   "outputs": [
    {
     "name": "stdout",
     "output_type": "stream",
     "text": [
      "1\n"
     ]
    }
   ],
   "source": [
    "# TASK # 2\n",
    "def find_row_with_tickets(seating, tickets_needed):\n",
    "    for row_index, row in enumerate(seating):\n",
    "        # Check for a sequence of `tickets_needed` zeros in the row\n",
    "        for i in range(len(row) - tickets_needed + 1):\n",
    "            if all(seat == 0 for seat in row[i:i + tickets_needed]):\n",
    "                return row_index  # Return the index of the row\n",
    "    return False  # Return False if no suitable row is found\n",
    "\n",
    "# Example usage\n",
    "seating = [[0, 1, 1, 0], [1, 0, 0, 0], [0, 1, 0, 0]]\n",
    "#seating = [[0, 1, 1, 0], [1, 0, 1, 0], [1, 1, 0, 1]]\n",
    "tickets_needed = int(input(\"Enter the number of tickets needed: \"))\n",
    "result = find_row_with_tickets(seating, tickets_needed)\n",
    "print(result)"
   ]
  },
  {
   "cell_type": "code",
   "execution_count": null,
   "metadata": {},
   "outputs": [
    {
     "name": "stdout",
     "output_type": "stream",
     "text": [
      "Encoded string: 3a4b4c\n"
     ]
    }
   ],
   "source": [
    "# TASK # 3\n",
    "def rle_encode(input_string):\n",
    "    if not input_string:\n",
    "        return \"\"\n",
    "    \n",
    "    encoded = []\n",
    "    count = 1\n",
    "    \n",
    "    for i in range(1, len(input_string)):\n",
    "        if input_string[i] == input_string[i - 1]:\n",
    "            count += 1\n",
    "        else:\n",
    "            encoded.append(f\"{count}{input_string[i - 1]}\")\n",
    "            count = 1\n",
    "    \n",
    "    # Add the last group\n",
    "    encoded.append(f\"{count}{input_string[-1]}\")\n",
    "    \n",
    "    return \"\".join(encoded)\n",
    "\n",
    "# Example usage\n",
    "input_string = input(\"Enter a string to encode: \")\n",
    "result = rle_encode(input_string)\n",
    "print(f\"Encoded string: {result}\")"
   ]
  },
  {
   "cell_type": "code",
   "execution_count": null,
   "metadata": {},
   "outputs": [
    {
     "name": "stdout",
     "output_type": "stream",
     "text": [
      "Encrypted string: Udymts nx ymj GJXY\n"
     ]
    }
   ],
   "source": [
    "# TASK # 4\n",
    "def caesar_cipher(text, key):\n",
    "    encrypted_text = []\n",
    "    for char in text:\n",
    "        if char.isalpha():  # Check if the character is a letter\n",
    "            shift = key % 26  # Ensure the shift is within the alphabet range\n",
    "            if char.islower():\n",
    "                # Shift within lowercase letters\n",
    "                new_char = chr((ord(char) - ord('a') + shift) % 26 + ord('a'))\n",
    "            elif char.isupper():\n",
    "                # Shift within uppercase letters\n",
    "                new_char = chr((ord(char) - ord('A') + shift) % 26 + ord('A'))\n",
    "            encrypted_text.append(new_char)\n",
    "        else:\n",
    "            # Keep non-alphabetic characters unchanged\n",
    "            encrypted_text.append(char)\n",
    "    return ''.join(encrypted_text)\n",
    "\n",
    "# Example usage\n",
    "text = input(\"Enter a string to encrypt: \")\n",
    "key = int(input(\"Enter the cipher key: \"))\n",
    "result = caesar_cipher(text, key)\n",
    "print(f\"Encrypted string: {result}\")"
   ]
  },
  {
   "cell_type": "code",
   "execution_count": null,
   "metadata": {},
   "outputs": [
    {
     "name": "stdout",
     "output_type": "stream",
     "text": [
      "\n",
      "Математика\n",
      "Иванов 5 4\n",
      "Петров 5 5\n",
      "Сидоров 3\n",
      "\n",
      "Литература\n",
      "Иванов 3 4\n",
      "Сидоров 3\n",
      "Петров 5\n"
     ]
    }
   ],
   "source": [
    "# TASK # 5\n",
    "from collections import defaultdict\n",
    "\n",
    "def main():\n",
    "    # Dictionary to store subjects and their students with grades\n",
    "    records = defaultdict(lambda: defaultdict(list))\n",
    "    \n",
    "    while True:\n",
    "        # Input a line from the user\n",
    "        line = input(\"Enter 'subject name' 'student's last name' 'assessment' (or press Enter to finish): \").strip()\n",
    "        if not line:  # Exit the loop if an empty line is entered\n",
    "            break\n",
    "        \n",
    "        parts = line.split()\n",
    "        if len(parts) == 3:  # Valid input with subject, student, and grade\n",
    "            subject, student, grade = parts\n",
    "            records[subject][student].append(int(grade))\n",
    "        else:\n",
    "            print(\"Invalid input format. Please enter: 'subject name' 'student's last name' 'assessment'\")\n",
    "    \n",
    "    # Output the results\n",
    "    for subject, students in records.items():\n",
    "        print(f\"\\n{subject}\")\n",
    "        for student, grades in students.items():\n",
    "            grades_str = \" \".join(map(str, grades))\n",
    "            print(f\"{student} {grades_str}\")\n",
    "\n",
    "# Run the program\n",
    "main()"
   ]
  }
 ],
 "metadata": {
  "kernelspec": {
   "display_name": "venv",
   "language": "python",
   "name": "python3"
  },
  "language_info": {
   "codemirror_mode": {
    "name": "ipython",
    "version": 3
   },
   "file_extension": ".py",
   "mimetype": "text/x-python",
   "name": "python",
   "nbconvert_exporter": "python",
   "pygments_lexer": "ipython3",
   "version": "3.11.0"
  }
 },
 "nbformat": 4,
 "nbformat_minor": 2
}
