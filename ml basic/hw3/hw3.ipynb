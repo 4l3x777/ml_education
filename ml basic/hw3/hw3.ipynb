{
 "cells": [
  {
   "cell_type": "code",
   "execution_count": null,
   "metadata": {},
   "outputs": [
    {
     "name": "stdout",
     "output_type": "stream",
     "text": [
      "OtusCourse\n",
      "python_is_the_best\n",
      "OtusCourse\n",
      "python_is_the_best\n"
     ]
    }
   ],
   "source": [
    "# TASK # 1\n",
    "def convert_case(input_string, key=None):\n",
    "    def to_snake_case(camel_str):\n",
    "        # Convert camelCase to snake_case\n",
    "        result = []\n",
    "        for char in camel_str:\n",
    "            if char.isupper():\n",
    "                result.append('_')\n",
    "                result.append(char.lower())\n",
    "            else:\n",
    "                result.append(char)\n",
    "        return ''.join(result).lstrip('_')\n",
    "\n",
    "    def to_camel_case(snake_str):\n",
    "        # Convert snake_case to CamelCase\n",
    "        parts = snake_str.split('_')\n",
    "        return ''.join(word.capitalize() for word in parts)\n",
    "\n",
    "    # Detect the format if key is not provided\n",
    "    if key is None:\n",
    "        if '_' in input_string:\n",
    "            return to_camel_case(input_string)\n",
    "        else:\n",
    "            return to_snake_case(input_string)\n",
    "    elif key == 'snake':\n",
    "        return to_snake_case(input_string)\n",
    "    elif key == 'camel':\n",
    "        return to_camel_case(input_string)\n",
    "    else:\n",
    "        raise ValueError(\"Invalid key. Use 'snake' or 'camel'.\")\n",
    "\n",
    "# Example usage\n",
    "print(convert_case(\"otus_course\"))  # Output: OtusCourse\n",
    "print(convert_case(\"PythonIsTheBest\"))  # Output: python_is_the_best\n",
    "print(convert_case(\"otus_course\", key=\"camel\"))  # Output: OtusCourse\n",
    "print(convert_case(\"PythonIsTheBest\", key=\"snake\"))  # Output: python_is_the_best"
   ]
  },
  {
   "cell_type": "code",
   "execution_count": null,
   "metadata": {},
   "outputs": [
    {
     "name": "stdout",
     "output_type": "stream",
     "text": [
      "True\n",
      "False\n",
      "False\n"
     ]
    }
   ],
   "source": [
    "# TASK # 2\n",
    "from datetime import datetime\n",
    "\n",
    "def is_valid_date(date_string):\n",
    "    try:\n",
    "        # Try to parse the date in the format DD.MM.YYYY\n",
    "        datetime.strptime(date_string, \"%d.%m.%Y\")\n",
    "        return True\n",
    "    except ValueError:\n",
    "        # If parsing fails, the date is invalid\n",
    "        return False\n",
    "\n",
    "# Example usage\n",
    "print(is_valid_date(\"29.02.2000\"))  # Output: True\n",
    "print(is_valid_date(\"29.02.2001\"))  # Output: False\n",
    "print(is_valid_date(\"31.04.1962\"))  # Output: False"
   ]
  },
  {
   "cell_type": "code",
   "execution_count": null,
   "metadata": {},
   "outputs": [
    {
     "name": "stdout",
     "output_type": "stream",
     "text": [
      "True\n",
      "False\n",
      "True\n",
      "True\n"
     ]
    }
   ],
   "source": [
    "# TASK # 3\n",
    "def is_prime(number):\n",
    "    if number <= 1:\n",
    "        return False  # Numbers less than or equal to 1 are not prime\n",
    "    for i in range(2, int(number ** 0.5) + 1):\n",
    "        if number % i == 0:\n",
    "            return False  # Found a divisor, so it's not prime\n",
    "    return True  # No divisors found, so it's prime\n",
    "\n",
    "# Example usage\n",
    "print(is_prime(17))     # Output: True\n",
    "print(is_prime(20))     # Output: False\n",
    "print(is_prime(23))     # Output: True\n",
    "print(is_prime(100043)) # Output: True"
   ]
  },
  {
   "cell_type": "code",
   "execution_count": null,
   "metadata": {},
   "outputs": [
    {
     "name": "stdout",
     "output_type": "stream",
     "text": [
      "Error: Age must be between 18 and 60.. Please try again.\n",
      "\n",
      "User Data:\n",
      "ID         First Name      Last Name       Age  \n",
      "---------------------------------------------\n",
      "00000001   Jack            Daniels         22   \n"
     ]
    }
   ],
   "source": [
    "# TASK # 4\n",
    "def format_id(user_id):\n",
    "    \"\"\"Format the ID to be 8 characters long with leading zeros.\"\"\"\n",
    "    return str(user_id).zfill(8)\n",
    "\n",
    "def validate_name(name):\n",
    "    \"\"\"Validate and format the name to start with a capital letter and contain only letters.\"\"\"\n",
    "    if not name.isalpha():\n",
    "        raise ValueError(\"Name must contain only letters.\")\n",
    "    return name.capitalize()\n",
    "\n",
    "def validate_age(age):\n",
    "    \"\"\"Validate that the age is a number between 18 and 60.\"\"\"\n",
    "    age = int(age)\n",
    "    if age < 18 or age > 60:\n",
    "        raise ValueError(\"Age must be between 18 and 60.\")\n",
    "    return age\n",
    "\n",
    "def display_users(users):\n",
    "    \"\"\"Display the dictionary of users as a table.\"\"\"\n",
    "    print(f\"{'ID':<10} {'First Name':<15} {'Last Name':<15} {'Age':<5}\")\n",
    "    print(\"-\" * 45)\n",
    "    for user_id, (first_name, last_name, age) in users.items():\n",
    "        print(f\"{user_id:<10} {first_name:<15} {last_name:<15} {age:<5}\")\n",
    "\n",
    "def main():\n",
    "    users = {}\n",
    "    \n",
    "    while True:\n",
    "        try:\n",
    "            first_name = input(\"Enter first name (or press Enter to finish): \").strip()\n",
    "            if not first_name:\n",
    "                break\n",
    "            first_name = validate_name(first_name)\n",
    "            \n",
    "            last_name = input(\"Enter last name: \").strip()\n",
    "            last_name = validate_name(last_name)\n",
    "            \n",
    "            age = input(\"Enter age: \").strip()\n",
    "            age = validate_age(age)\n",
    "            \n",
    "            user_id = input(\"Enter ID: \").strip()\n",
    "            user_id = format_id(user_id)\n",
    "            \n",
    "            if user_id in users:\n",
    "                print(\"ID must be unique. Please try again.\")\n",
    "                continue\n",
    "            \n",
    "            users[user_id] = (first_name, last_name, age)\n",
    "        \n",
    "        except ValueError as e:\n",
    "            print(f\"Error: {e}. Please try again.\")\n",
    "    \n",
    "    print(\"\\nUser Data:\")\n",
    "    display_users(users)\n",
    "\n",
    "# Run the program\n",
    "main()"
   ]
  }
 ],
 "metadata": {
  "kernelspec": {
   "display_name": "venv",
   "language": "python",
   "name": "python3"
  },
  "language_info": {
   "codemirror_mode": {
    "name": "ipython",
    "version": 3
   },
   "file_extension": ".py",
   "mimetype": "text/x-python",
   "name": "python",
   "nbconvert_exporter": "python",
   "pygments_lexer": "ipython3",
   "version": "3.11.0"
  }
 },
 "nbformat": 4,
 "nbformat_minor": 2
}
